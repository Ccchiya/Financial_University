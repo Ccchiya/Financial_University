{
  "nbformat": 4,
  "nbformat_minor": 0,
  "metadata": {
    "colab": {
      "provenance": []
    },
    "kernelspec": {
      "name": "python3",
      "display_name": "Python 3"
    },
    "language_info": {
      "name": "python"
    }
  },
  "cells": [
    {
      "cell_type": "markdown",
      "source": [
        "# **Семинар №1**"
      ],
      "metadata": {
        "id": "IoEINm0qUNay"
      }
    },
    {
      "cell_type": "markdown",
      "source": [
        "Дата: 02.09.2022\n",
        "\n",
        "Студент: Садыкова Диана\n",
        "\n",
        "Группа: ПИ22-2"
      ],
      "metadata": {
        "id": "Bf1wRE6MUT-5"
      }
    },
    {
      "cell_type": "markdown",
      "source": [
        "1. Написать самую популярную программу на Python"
      ],
      "metadata": {
        "id": "rXWGBO1DUrfY"
      }
    },
    {
      "cell_type": "code",
      "execution_count": 1,
      "metadata": {
        "colab": {
          "base_uri": "https://localhost:8080/"
        },
        "id": "J83nOfBzUM9g",
        "outputId": "7760e0bc-e619-4017-c4b2-f56f60b69217"
      },
      "outputs": [
        {
          "output_type": "stream",
          "name": "stdout",
          "text": [
            "Hello, world!\n"
          ]
        }
      ],
      "source": [
        "print(\"Hello, world!\")"
      ]
    }
  ]
}