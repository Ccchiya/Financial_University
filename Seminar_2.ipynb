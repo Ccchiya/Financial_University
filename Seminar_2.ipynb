{
  "nbformat": 4,
  "nbformat_minor": 0,
  "metadata": {
    "colab": {
      "provenance": []
    },
    "kernelspec": {
      "name": "python3",
      "display_name": "Python 3"
    },
    "language_info": {
      "name": "python"
    }
  },
  "cells": [
    {
      "cell_type": "markdown",
      "source": [
        "#**Семинар №2**"
      ],
      "metadata": {
        "id": "Skc-fLw7DvdH"
      }
    },
    {
      "cell_type": "markdown",
      "source": [
        "Дата: 09.09.2022\n",
        "\n",
        "Студент: Садыкова Диана\n",
        "\n",
        "Группа: ПИ22-2\n",
        "\n",
        "\n"
      ],
      "metadata": {
        "id": "al3MhDbiD2av"
      }
    },
    {
      "cell_type": "markdown",
      "source": [
        "# Задание:"
      ],
      "metadata": {
        "id": "NrIPu3QEGEuu"
      }
    },
    {
      "cell_type": "markdown",
      "source": [
        "1. Напишите программу, которая получает информации о пользователе (имя, фамилию, возраст, город)."
      ],
      "metadata": {
        "id": "QfgZgatmGQXP"
      }
    },
    {
      "cell_type": "code",
      "source": [
        "name = input(\"Введите Ваше имя: \")\n",
        "surname = input(\"Введите Вашу фамилию: \")\n",
        "age = int(input(\"Введите Ваш возраст: \"))\n",
        "city = input(\"Введите город проживания: \")"
      ],
      "metadata": {
        "colab": {
          "base_uri": "https://localhost:8080/"
        },
        "id": "Y8zeHfAFGWvO",
        "outputId": "18ff22f3-af8f-4dde-d6a6-311db6997265"
      },
      "execution_count": 2,
      "outputs": [
        {
          "name": "stdout",
          "output_type": "stream",
          "text": [
            "Введите Ваше имя: Диана\n",
            "Введите Вашу фамилию: Садыкова\n",
            "Введите Ваш возраст: 18\n",
            "Введите город проживания: Москва\n"
          ]
        }
      ]
    },
    {
      "cell_type": "code",
      "source": [
        "print(\"Привет,\", name, surname + \"!\")\n",
        "print()\n",
        "print(\"Ваш профиль:\")\n",
        "print(\"Возраст:\", age)\n",
        "print(\"Город:\", city)"
      ],
      "metadata": {
        "colab": {
          "base_uri": "https://localhost:8080/"
        },
        "id": "7QMAeT6gHTwG",
        "outputId": "abdd3d23-c63f-4ca7-d05a-50c119a890fa"
      },
      "execution_count": 4,
      "outputs": [
        {
          "output_type": "stream",
          "name": "stdout",
          "text": [
            "Привет, Диана Садыкова!\n",
            "\n",
            "Ваш профиль:\n",
            "Возраст: 18\n",
            "Город: Москва\n"
          ]
        }
      ]
    },
    {
      "cell_type": "markdown",
      "source": [
        "2. Получить переменную, содержащую строку со значением равным двум в одиннадцатой степени и вывести ее на экран."
      ],
      "metadata": {
        "id": "PF70jqD_IQN3"
      }
    },
    {
      "cell_type": "code",
      "source": [
        "num = 2**11\n",
        "print(num)"
      ],
      "metadata": {
        "colab": {
          "base_uri": "https://localhost:8080/"
        },
        "id": "dtyASbxkIXX2",
        "outputId": "b563a6b0-b4bc-4a9e-8bf1-c0cb7937e7a5"
      },
      "execution_count": 5,
      "outputs": [
        {
          "output_type": "stream",
          "name": "stdout",
          "text": [
            "2048\n"
          ]
        }
      ]
    },
    {
      "cell_type": "markdown",
      "source": [
        "3. Напишите программу, которая по данному числу N от 1 до 9 выводит на экран N пингвинов. Изображение одного пингвина имеет размер 5×9 символов, между двумя соседними пингвинами также имеется пустой (из пробелов) столбец. Разрешается вывести пустой столбец после последнего пингвина."
      ],
      "metadata": {
        "id": "qcGAnNhnItG_"
      }
    },
    {
      "cell_type": "code",
      "source": [
        "N = int(input())\n",
        "part1 = ('~ ')\n",
        "part2 = (\"(o o) \")\n",
        "part3 = (\"/ V \\ \")\n",
        "part4 = (\"/(_)\\ \")\n",
        "part5 = (\"^^ ^^ \")\n",
        "print(part1*N)\n",
        "print(part2*N)\n",
        "print(part3*N)\n",
        "print(part4*N)\n",
        "print(part5*N)"
      ],
      "metadata": {
        "colab": {
          "base_uri": "https://localhost:8080/"
        },
        "id": "GBhyzVfXIzfR",
        "outputId": "fd28052d-f590-489f-e90a-0a9aeb56fc57"
      },
      "execution_count": 21,
      "outputs": [
        {
          "output_type": "stream",
          "name": "stdout",
          "text": [
            "2\n",
            "~ ~ \n",
            "(o o) (o o) \n",
            "/ V \\ / V \\ \n",
            "/(_)\\ /(_)\\ \n",
            "^^ ^^ ^^ ^^ \n"
          ]
        }
      ]
    },
    {
      "cell_type": "markdown",
      "source": [
        "4. Программа получает на вход числа N и K — натуральные, не превышают 10000. N школьников делят K яблок поровну, не делящийся остаток остается в корзинке.\n",
        "\n",
        "\n",
        "*   Сколько яблок достанется каждому школьнику? N школьников поделили K яблок поровну, не делящийся остаток остался в корзинке.\n",
        "*   Сколько яблок осталось в корзинке?\n",
        "\n"
      ],
      "metadata": {
        "id": "GaliW63bME0Q"
      }
    },
    {
      "cell_type": "code",
      "source": [
        "N = int(input(\"Введите число школьников: \"))\n",
        "K = int(input(\"Введите число яблок: \"))\n",
        "print(\"Каждому школьнику достанется\", K//N, \"яблок(a)\")\n",
        "print(\"В корзинке осталось\", K%N, \"яблок(a)\")"
      ],
      "metadata": {
        "colab": {
          "base_uri": "https://localhost:8080/"
        },
        "id": "vLv3kIH1MfyY",
        "outputId": "153bc58d-9a64-4fad-b2fd-e17b499f067b"
      },
      "execution_count": 31,
      "outputs": [
        {
          "output_type": "stream",
          "name": "stdout",
          "text": [
            "Введите число школьников: 50\n",
            "Введите число яблок: 134\n",
            "Каждому школьнику достанется 2 яблок(a)\n",
            "В корзинке осталось 34 яблок(a)\n"
          ]
        }
      ]
    },
    {
      "cell_type": "markdown",
      "source": [
        "5. Дано натуральное число. Выведите его последнюю цифру."
      ],
      "metadata": {
        "id": "zOQsmmriPR9o"
      }
    },
    {
      "cell_type": "code",
      "source": [
        "num = int(input())\n",
        "print(num%10)"
      ],
      "metadata": {
        "colab": {
          "base_uri": "https://localhost:8080/"
        },
        "id": "43DLLJOmPUYf",
        "outputId": "e2768dcd-80b5-4305-ba17-ae8e2f8cc398"
      },
      "execution_count": 38,
      "outputs": [
        {
          "output_type": "stream",
          "name": "stdout",
          "text": [
            "47538682\n",
            "2\n"
          ]
        }
      ]
    }
  ]
}